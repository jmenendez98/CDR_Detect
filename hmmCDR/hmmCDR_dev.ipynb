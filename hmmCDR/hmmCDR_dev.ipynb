{
 "cells": [
  {
   "cell_type": "markdown",
   "metadata": {},
   "source": [
    "### Import Packages"
   ]
  },
  {
   "cell_type": "code",
   "execution_count": 153,
   "metadata": {},
   "outputs": [],
   "source": [
    "import pandas as pd\n",
    "import numpy as np \n",
    "import pybedtools\n",
    "# import argparse"
   ]
  },
  {
   "cell_type": "markdown",
   "metadata": {},
   "source": [
    "# Work Space for priorCDR.py"
   ]
  },
  {
   "cell_type": "code",
   "execution_count": 154,
   "metadata": {},
   "outputs": [],
   "source": [
    "# would be from argparse\n",
    "'''\n",
    "    parser = argparse.ArgumentParser(description='Process bedMethyl and regions BED files.')\n",
    "    parser.add_argument('bedMethyl_path', type=str, help='Path to the bedMethyl file')\n",
    "    parser.add_argument('cenSat_path', type=str, help='Path to the regions BED file')\n",
    "    parser.add_argument('mod_code', type=str, help='Modification code to filter bedMethyl file')\n",
    "    parser.add_argument('sat_type', type=str, help='Satellite type to filter regions file')\n",
    "    args = parser.parse_args()\n",
    "'''\n",
    "bedMethyl_path = 'chr10_MAT_HG002_ONT.5mCpileup.bed'\n",
    "\n",
    "cenSat_path = 'chr10_MAT_hg002v1.0.1.cenSatv2.0.bed'\n",
    "\n",
    "mod_code = 'm'\n",
    "\n",
    "sat_type = 'H1L'\n",
    "\n",
    "window_size = 1020 # 6 repeat units?\n",
    "\n",
    "priorCDR_percent = 5\n",
    "\n",
    "priorTransition_percent = 10\n",
    "\n",
    "minCDR_size = 3000\n",
    "\n",
    "depletion = True\n",
    "\n",
    "output_label = \"CDR\""
   ]
  },
  {
   "cell_type": "code",
   "execution_count": 155,
   "metadata": {},
   "outputs": [],
   "source": [
    "def filter_bedMethyl(bedMethyl_path, mod_code):\n",
    "    # Read the bedMethyl file, keeping only the necessary columns\n",
    "    df = pd.read_csv(bedMethyl_path, sep='\\t', header=None, usecols=[0, 1, 2, 3, 10])\n",
    "    # Filter rows based on the mod_code\n",
    "    filtered_df = df[df[3] == mod_code]\n",
    "    # Drop the third column (index 2)\n",
    "    filtered_df = filtered_df.drop(columns=[3])\n",
    "    return filtered_df"
   ]
  },
  {
   "cell_type": "code",
   "execution_count": 156,
   "metadata": {},
   "outputs": [],
   "source": [
    "def filter_regions(regions_path, sat_type):\n",
    "    # Read the regions file\n",
    "    regions_df = pd.read_csv(regions_path, sep='\\t', header=None)\n",
    "    # Filter rows based on the sat_type substring in column 4\n",
    "    filtered_regions_df = regions_df[regions_df[3].str.contains(sat_type)]\n",
    "    return filtered_regions_df"
   ]
  },
  {
   "cell_type": "code",
   "execution_count": 157,
   "metadata": {},
   "outputs": [],
   "source": [
    "def intersect_files(filtered_bedMethyl, filtered_regions):\n",
    "    # Create BedTool objects\n",
    "    bedMethyl_bedtool = pybedtools.BedTool.from_dataframe(filtered_bedMethyl)\n",
    "    regions_bedtool = pybedtools.BedTool.from_dataframe(filtered_regions)\n",
    "    # Intersect the files, keeping only the bedMethyl values\n",
    "    intersected = bedMethyl_bedtool.intersect(regions_bedtool, wa=True, u=True)\n",
    "    # Convert to DataFrame\n",
    "    intersected_df = intersected.to_dataframe(names=[0, 1, 2, 3, 10])\n",
    "    return intersected_df"
   ]
  },
  {
   "cell_type": "code",
   "execution_count": 158,
   "metadata": {},
   "outputs": [],
   "source": [
    "def create_regions(intersected_df, window_size=1020):\n",
    "    # Compute the minimum and maximum values in column 1 (the start positions)\n",
    "    min_val = int( intersected_df[1].min() )\n",
    "    max_val = int( intersected_df[1].max() )\n",
    "    \n",
    "    # Create a list to hold the region data\n",
    "    regions = []\n",
    "    \n",
    "    # Generate 1020bp regions from min_val to max_val\n",
    "    current_start = min_val\n",
    "    while current_start + window_size <= max_val:\n",
    "        current_end = current_start + window_size\n",
    "        regions.append([intersected_df[0][0], current_start, current_end])\n",
    "        current_start = current_end\n",
    "\n",
    "    # Convert the list to a DataFrame\n",
    "    regions_df = pd.DataFrame(regions, columns=[0, 1, 2])\n",
    "    \n",
    "    return regions_df"
   ]
  },
  {
   "cell_type": "code",
   "execution_count": 166,
   "metadata": {},
   "outputs": [],
   "source": [
    "def calculate_mean_within_windows(intersected_df, regions_df):\n",
    "    # Create BedTool objects\n",
    "    intersected_bedtool = pybedtools.BedTool.from_dataframe(intersected_df)\n",
    "    regions_bedtool = pybedtools.BedTool.from_dataframe(regions_df)\n",
    "    \n",
    "    # Use BedTool map to calculate the mean of column 10 within each window\n",
    "    result = regions_bedtool.map(intersected_bedtool, c=4, o='mean')\n",
    "    \n",
    "    # Convert the result to a DataFrame\n",
    "    result_df = result.to_dataframe(names=[0, 1, 2, 'mean_value'])\n",
    "    \n",
    "    return result_df"
   ]
  },
  {
   "cell_type": "code",
   "execution_count": 160,
   "metadata": {},
   "outputs": [],
   "source": [
    "def calculate_percentiles(windows_mean_df, priorCDR_percentile=5, priorTransition_percentile=10):\n",
    "    # Replace '.' with NaN\n",
    "    windows_mean_df['mean_value'].replace('.', np.nan, inplace=True)\n",
    "    # Drop NaN values\n",
    "    mean_values = windows_mean_df['mean_value'].dropna().astype(float)\n",
    "    # Calculate prior and transition scores as certain percentiles\n",
    "    priorCDR_score = np.percentile(mean_values, q=priorCDR_percentile)\n",
    "    priorTransition_score = np.percentile(mean_values, q=priorTransition_percentile)\n",
    "    \n",
    "    return priorCDR_score, priorTransition_score"
   ]
  },
  {
   "cell_type": "code",
   "execution_count": 161,
   "metadata": {},
   "outputs": [],
   "source": [
    "def create_priorCDR_dataframe(windows_mean_df, priorCDR_score, minCDR_size):\n",
    "    # Replace '.' with NaN and convert to float\n",
    "    windows_mean_df['mean_value'] = pd.to_numeric(windows_mean_df['mean_value'], errors='coerce')\n",
    "    # Drop NaN values\n",
    "    windows_mean_df = windows_mean_df.dropna(subset=['mean_value'])\n",
    "    # Filter windows with mean_value below priorCDR_score\n",
    "    windows_below_priorCDR_score = windows_mean_df[windows_mean_df['mean_value'] < priorCDR_score]\n",
    "    # Create a BedTool object from the filtered windows\n",
    "    windows_bedtool = pybedtools.BedTool.from_dataframe(windows_below_priorCDR_score)\n",
    "    # Merge adjacent windows\n",
    "    merged_windows = windows_bedtool.merge()\n",
    "    # Convert the merged result to a DataFrame\n",
    "    merged_df = merged_windows.to_dataframe(names=[0, 1, 2])\n",
    "    # Calculate the size of each merged region\n",
    "    merged_df['size'] = merged_df[2] - merged_df[1]\n",
    "    # Filter merged regions by size threshold\n",
    "    filtered_merged_df = merged_df[merged_df['size'] >= minCDR_size]\n",
    "    # Drop the 'size' column before returning\n",
    "    filtered_merged_df = filtered_merged_df.drop(columns=['size'])\n",
    "    return filtered_merged_df"
   ]
  },
  {
   "cell_type": "code",
   "execution_count": 162,
   "metadata": {},
   "outputs": [],
   "source": [
    "def create_priorTransition_dataframe(windows_mean_df, priorTransition_score, CDR_df):\n",
    "    # Replace '.' with NaN and convert to float\n",
    "    windows_mean_df['mean_value'] = pd.to_numeric(windows_mean_df['mean_value'], errors='coerce')\n",
    "    # Drop NaN values\n",
    "    windows_mean_df = windows_mean_df.dropna(subset=['mean_value'])\n",
    "    # Filter windows with mean_value below priorCDR_score\n",
    "    windows_below_priorTransition_score = windows_mean_df[windows_mean_df['mean_value'] < priorTransition_score]\n",
    "    # Create a BedTool object from the filtered windows\n",
    "    windows_bedtool = pybedtools.BedTool.from_dataframe(windows_below_priorTransition_score)\n",
    "    # Merge adjacent windows\n",
    "    merged_windows = windows_bedtool.merge()\n",
    "\n",
    "    # Create a BedTool object from CDR_df\n",
    "    CDR_bedtool = pybedtools.BedTool.from_dataframe(CDR_df)\n",
    "    \n",
    "    # Perform bedtools intersect\n",
    "    intersected_bedtool = merged_windows.intersect(CDR_bedtool, wa=True, wb=True)\n",
    "    # Convert the result to a DataFrame and keep only columns from merged_windows\n",
    "    intersected_df = intersected_bedtool.to_dataframe(names=[0, 1, 2, 'CDR_1', 'CDR_2', 'CDR_3', 'CDR_4'])\n",
    "    intersected_df = intersected_df[[0, 1, 2]]\n",
    "    \n",
    "    # Convert intersected_df back to a BedTool object for subtraction\n",
    "    intersected_bedtool = pybedtools.BedTool.from_dataframe(intersected_df)\n",
    "    \n",
    "    # Perform bedtools subtract\n",
    "    priorTransition_bedtool = intersected_bedtool.subtract(CDR_bedtool)\n",
    "    # Convert the result to a DataFrame\n",
    "    priorTransition_df = priorTransition_bedtool.to_dataframe(names=[0, 1, 2])\n",
    "    \n",
    "    return priorTransition_df"
   ]
  },
  {
   "cell_type": "code",
   "execution_count": 163,
   "metadata": {},
   "outputs": [],
   "source": [
    "def combine_and_save_bed(priorCDR_df, priorTransition_df, output_label, output_path):\n",
    "    # Add the name column based on the origin\n",
    "    priorCDR_df[3] = output_label\n",
    "    priorTransition_df[3] = output_label + \"_transition\"\n",
    "    \n",
    "    # Concatenate the two DataFrames\n",
    "    combined_df = pd.concat([priorCDR_df, priorTransition_df], ignore_index=True)\n",
    "    \n",
    "    # Sort the combined DataFrame by the second column (index 1)\n",
    "    combined_df = combined_df.sort_values(by=1).reset_index(drop=True)\n",
    "    \n",
    "    # Save the combined DataFrame to a BED file\n",
    "    combined_df.to_csv(output_path, sep='\\t', header=False, index=False)"
   ]
  },
  {
   "cell_type": "code",
   "execution_count": 167,
   "metadata": {},
   "outputs": [
    {
     "name": "stdout",
     "output_type": "stream",
     "text": [
      "filtered_bedMethyl:\n",
      "                      0          1          2      10\n",
      "0        chr10_MATERNAL       2498       2499    0.0\n",
      "1        chr10_MATERNAL       2522       2523    0.0\n",
      "2        chr10_MATERNAL       2528       2529    0.0\n",
      "3        chr10_MATERNAL       2584       2585    0.0\n",
      "4        chr10_MATERNAL       3102       3103  100.0\n",
      "...                 ...        ...        ...    ...\n",
      "1432418  chr10_MATERNAL  135910186  135910187  100.0\n",
      "1432419  chr10_MATERNAL  135910272  135910273  100.0\n",
      "1432420  chr10_MATERNAL  135910278  135910279  100.0\n",
      "1432421  chr10_MATERNAL  135910296  135910297  100.0\n",
      "1432422  chr10_MATERNAL  135910309  135910310  100.0\n",
      "\n",
      "[1432423 rows x 4 columns]\n",
      "filtered_regions:\n",
      "                  0         1         2                               3    4  \\\n",
      "24  chr10_MATERNAL  39744030  40285609            active_hor(S1C10H1L)  100   \n",
      "25  chr10_MATERNAL  40285609  40294936  mixedAlpha(S1C10H1-B,S1C10H1L)    0   \n",
      "28  chr10_MATERNAL  40330733  42227817            active_hor(S1C10H1L)  100   \n",
      "29  chr10_MATERNAL  42227817  42229853  mixedAlpha(S1C10H1-B,S1C10H1L)    0   \n",
      "30  chr10_MATERNAL  42229853  42239683            active_hor(S1C10H1L)  100   \n",
      "31  chr10_MATERNAL  42239683  42241887  mixedAlpha(S1C10H1-B,S1C10H1L)    0   \n",
      "32  chr10_MATERNAL  42241887  42287170            active_hor(S1C10H1L)  100   \n",
      "33  chr10_MATERNAL  42287170  42303623  mixedAlpha(S1C10H1-B,S1C10H1L)    0   \n",
      "35  chr10_MATERNAL  42315331  42316517  mixedAlpha(S1C10H1-B,S1C10H1L)    0   \n",
      "38  chr10_MATERNAL  42392025  42393045  mixedAlpha(S1C10H1-C,S1C10H1L)    0   \n",
      "\n",
      "    5         6         7            8  \n",
      "24  .  39744030  40285609      250,0,0  \n",
      "25  .  40285609  40294936  240,128,128  \n",
      "28  .  40330733  42227817      250,0,0  \n",
      "29  .  42227817  42229853  240,128,128  \n",
      "30  .  42229853  42239683      250,0,0  \n",
      "31  .  42239683  42241887  240,128,128  \n",
      "32  .  42241887  42287170      250,0,0  \n",
      "33  .  42287170  42303623  240,128,128  \n",
      "35  .  42315331  42316517  240,128,128  \n",
      "38  .  42392025  42393045  240,128,128  \n",
      "windows_mean_df:\n",
      "                    0         1         2   mean_value\n",
      "0     chr10_MATERNAL  39744038  39745058  49.47736842\n",
      "1     chr10_MATERNAL  39745058  39746078       49.663\n",
      "2     chr10_MATERNAL  39746078  39747098    12.216875\n",
      "3     chr10_MATERNAL  39747098  39748118  45.96733333\n",
      "4     chr10_MATERNAL  39748118  39749138        50.16\n",
      "...              ...       ...       ...          ...\n",
      "2592  chr10_MATERNAL  42387878  42388898            .\n",
      "2593  chr10_MATERNAL  42388898  42389918            .\n",
      "2594  chr10_MATERNAL  42389918  42390938            .\n",
      "2595  chr10_MATERNAL  42390938  42391958            .\n",
      "2596  chr10_MATERNAL  42391958  42392978     21.48625\n",
      "\n",
      "[2597 rows x 4 columns]\n"
     ]
    }
   ],
   "source": [
    "# Step 1: Filter bedMethyl file\n",
    "filtered_bedMethyl = filter_bedMethyl(bedMethyl_path, mod_code)\n",
    "\n",
    "print(\"filtered_bedMethyl:\\n\",filtered_bedMethyl)\n",
    "\n",
    "# Step 2: Filter regions file\n",
    "filtered_regions = filter_regions(cenSat_path, sat_type)\n",
    "\n",
    "print(\"filtered_regions:\\n\",filtered_regions)\n",
    "\n",
    "# Step 3: Intersect the files\n",
    "intersected_df = intersect_files(filtered_bedMethyl, filtered_regions)\n",
    "\n",
    "# Step 4: Create windows dataframe\n",
    "windows_df = create_regions(intersected_df, window_size=window_size)\n",
    "\n",
    "# Step 5: Calculate the mean of the 4th column within each window\n",
    "windows_mean_df = calculate_mean_within_windows(intersected_df, windows_df)\n",
    "\n",
    "print(\"windows_mean_df:\\n\",windows_mean_df)\n"
   ]
  },
  {
   "cell_type": "code",
   "execution_count": 168,
   "metadata": {},
   "outputs": [
    {
     "name": "stdout",
     "output_type": "stream",
     "text": [
      "scores: (CDR, Transition)\n",
      "18.1157000005 24.025633336\n",
      "\n",
      "priorCDR_df:\n",
      "                 0         1         2\n",
      "30  chr10_MATERNAL  42096158  42102278\n",
      "31  chr10_MATERNAL  42138998  42152258\n",
      "33  chr10_MATERNAL  42210398  42278738\n",
      "\n",
      "priorTransition_df:\n",
      "                0         1         2\n",
      "0  chr10_MATERNAL  42095138  42096158\n",
      "1  chr10_MATERNAL  42152258  42154298\n"
     ]
    }
   ],
   "source": [
    "# Step 6: Calculate the priorCDR_score and priorTransition_score percentiles\n",
    "priorCDR_score, priorTransition_score = calculate_percentiles(windows_mean_df, priorCDR_percent, priorTransition_percent)\n",
    "print(\"scores: (CDR, Transition)\")\n",
    "print(priorCDR_score, priorTransition_score)\n",
    "\n",
    "# Step 7: Create the priorCDR dataframe\n",
    "priorCDR_df = create_priorCDR_dataframe(windows_mean_df, priorCDR_score, minCDR_size)\n",
    "print('\\npriorCDR_df:')\n",
    "print(priorCDR_df)\n",
    "\n",
    "# Step 8: Create the priorTransitions dataframe\n",
    "priorTransitions_df = create_priorTransition_dataframe(windows_mean_df, priorTransition_score, priorCDR_df)\n",
    "print('\\npriorTransition_df:')\n",
    "print(priorTransitions_df)"
   ]
  },
  {
   "cell_type": "code",
   "execution_count": 170,
   "metadata": {},
   "outputs": [],
   "source": [
    "# Step 9: Combine and save DataFrame as a bedfile!\n",
    "combine_and_save_bed(priorCDR_df, priorTransitions_df, output_label, \"chr10_priorCDR_nb_test.bed\")"
   ]
  },
  {
   "cell_type": "code",
   "execution_count": null,
   "metadata": {},
   "outputs": [],
   "source": []
  }
 ],
 "metadata": {
  "kernelspec": {
   "display_name": "python3",
   "language": "python",
   "name": "python3"
  },
  "language_info": {
   "codemirror_mode": {
    "name": "ipython",
    "version": 3
   },
   "file_extension": ".py",
   "mimetype": "text/x-python",
   "name": "python",
   "nbconvert_exporter": "python",
   "pygments_lexer": "ipython3",
   "version": "3.7.16"
  }
 },
 "nbformat": 4,
 "nbformat_minor": 2
}
